{
 "cells": [
  {
   "cell_type": "markdown",
   "metadata": {},
   "source": [
    "#### Question 1: Lists\n",
    " Task:\n",
    " \n",
    "(a) Create a list named fruits with the items \"apple\", \"orange\", and \"banana\". \n",
    "\n",
    "(b) Add \"tomato\" to the end of the fruits list. \n",
    "\n",
    "(c) Remove \"apple\" from the fruits list. "
   ]
  },
  {
   "cell_type": "code",
   "execution_count": 1,
   "metadata": {},
   "outputs": [
    {
     "name": "stdout",
     "output_type": "stream",
     "text": [
      "['apple', 'orange', 'banana']\n",
      "['apple', 'orange', 'banana', 'tomato']\n",
      "['orange', 'banana', 'tomato']\n"
     ]
    }
   ],
   "source": [
    "#(a)\n",
    "fruits = [\"apple\", \"orange\", \"banana\"]\n",
    "print(fruits)\n",
    "\n",
    "#(b)\n",
    "fruits.append(\"tomato\")\n",
    "print(fruits)\n",
    "\n",
    "#(c)\n",
    "fruits.remove(\"apple\")\n",
    "print(fruits)"
   ]
  },
  {
   "cell_type": "markdown",
   "metadata": {},
   "source": [
    "#### Question 2: Tuples\n",
    "\n",
    "Task:\n",
    "\n",
    "(a) Create a tuple named subjects with the following elements: \"physics\", \"chemistry\", \"english\", \"math\", and \"biology\".\n",
    "\n",
    "(b) Attempt to append \"literature\" to the tuple and observe the result. Suggest an alternative way to add an element to a tuple.\n",
    "\n",
    "(c) Count the number of elements in the subjects tuple."
   ]
  },
  {
   "cell_type": "code",
   "execution_count": 9,
   "metadata": {},
   "outputs": [
    {
     "name": "stdout",
     "output_type": "stream",
     "text": [
      "('physics', 'chemistry', 'english', 'math', 'biology')\n",
      "('physics', 'chemistry', 'english', 'math', 'biology', 'literature')\n",
      "6\n"
     ]
    }
   ],
   "source": [
    "#(a)\n",
    "subjects = (\"physics\", \"chemistry\", \"english\", \"math\", \"biology\")\n",
    "print(subjects)\n",
    "\n",
    "#(b)\n",
    "subjects_list = list(subjects)\n",
    "subjects_list.append(\"literature\")\n",
    "subjects = tuple(subjects_list)\n",
    "print(subjects)   #unable to append to tuple directly, will have to turn tuple into list to append and turn back into tuple\n",
    "\n",
    "#(c)\n",
    "print(len(subjects))"
   ]
  },
  {
   "cell_type": "markdown",
   "metadata": {},
   "source": [
    "#### Question 3: Sorting Lists\n",
    "\n",
    "Task:\n",
    "\n",
    "(a) Create a list named students_id with the values [10, 6, 7, 8, 9, 3].\n",
    "\n",
    "(b) Sort the list in descending order and reinitialize it as sorted_students_id.\n",
    "\n",
    "(c) Remove all elements from the sorted_students_id list."
   ]
  },
  {
   "cell_type": "code",
   "execution_count": 1,
   "metadata": {},
   "outputs": [
    {
     "name": "stdout",
     "output_type": "stream",
     "text": [
      "[10, 6, 7, 8, 9, 3]\n",
      "[10, 9, 8, 7, 6, 3]\n",
      "[]\n"
     ]
    }
   ],
   "source": [
    "#(a)\n",
    "students_id = [10, 6, 7, 8, 9, 3]\n",
    "print(students_id)\n",
    "\n",
    "#(b)\n",
    "sorted_students_id = sorted(students_id)\n",
    "sorted_students_id.reverse()\n",
    "print(sorted_students_id)\n",
    "\n",
    "#(c)\n",
    "sorted_students_id.clear()\n",
    "print(sorted_students_id)\n"
   ]
  },
  {
   "cell_type": "markdown",
   "metadata": {},
   "source": [
    "### Question 4: Generating Lists\n",
    "\n",
    "Task:\n",
    "\n",
    "Generate a list of numbers starting from 15 and decreasing by 3 each step, until the number is positive (not inclusive of zero). Store it in a variable named desc_list."
   ]
  },
  {
   "cell_type": "code",
   "execution_count": 2,
   "metadata": {},
   "outputs": [
    {
     "name": "stdout",
     "output_type": "stream",
     "text": [
      "[15, 12, 9, 6, 3]\n"
     ]
    }
   ],
   "source": [
    "desc_list = list(range(15,0,-3))\n",
    "print(desc_list)"
   ]
  },
  {
   "cell_type": "markdown",
   "metadata": {},
   "source": [
    "### Question 5: Generating Lists\n",
    "\n",
    "Task:\n",
    "\n",
    "Generate a list of numbers starting from 2, increasing by 2 each step, until the list contains 14 elements. Store it in a variable named asc_list.\n",
    "\n",
    "**(i think wrong)**"
   ]
  },
  {
   "cell_type": "code",
   "execution_count": 3,
   "metadata": {},
   "outputs": [
    {
     "name": "stdout",
     "output_type": "stream",
     "text": [
      "[2, 4, 6, 8, 10, 12, 14, 16, 18, 20, 22, 24, 26, 28]\n"
     ]
    }
   ],
   "source": [
    "asc_list = list(range(2,30,2))\n",
    "print(asc_list)"
   ]
  },
  {
   "cell_type": "markdown",
   "metadata": {},
   "source": [
    "### Question 6: Combining and Separating Lists\n",
    "\n",
    "Task:\n",
    "\n",
    "Combine the lists generated in Questions 4 and 5 into a single list named combined_list.\n",
    "\n",
    "Separate the even and odd numbers from combined_list into two separate lists: even_numbers and odd_numbers.\n"
   ]
  },
  {
   "cell_type": "code",
   "execution_count": 5,
   "metadata": {},
   "outputs": [
    {
     "name": "stdout",
     "output_type": "stream",
     "text": [
      "[15, 12, 9, 6, 3, 2, 4, 6, 8, 10, 12, 14, 16, 18, 20, 22, 24, 26, 28]\n",
      "[12, 6, 2, 4, 6, 8, 10, 12, 14, 16, 18, 20, 22, 24, 26, 28]\n",
      "[15, 9, 3]\n"
     ]
    }
   ],
   "source": [
    "#combining the two lists\n",
    "combined_list = desc_list + asc_list\n",
    "print(combined_list)\n",
    "\n",
    "#separate even and odd numbers\n",
    "even_numbers = [i for i in combined_list \n",
    "                if i%2 == 0]\n",
    "odd_numbers = [i for i in combined_list\n",
    "               if i%2 != 0]\n",
    "print(even_numbers)\n",
    "print(odd_numbers)\n",
    "\n",
    "#question: do we need to transform into set to remove duplicate numbers?"
   ]
  },
  {
   "cell_type": "markdown",
   "metadata": {},
   "source": [
    "### Question 7: Functions\n",
    "\n",
    "Task:\n",
    "\n",
    "Create a function circle_properties(radius) that takes in the radius of a circle and returns both the area and circumference."
   ]
  },
  {
   "cell_type": "code",
   "execution_count": 10,
   "metadata": {},
   "outputs": [
    {
     "name": "stdout",
     "output_type": "stream",
     "text": [
      "Area: 50.26548245743669\n",
      "Circumference: 25.132741228718345\n"
     ]
    }
   ],
   "source": [
    "import math \n",
    "\n",
    "def circle_properties(radius):\n",
    "    area = math.pi*radius**2\n",
    "    circumference = 2*math.pi*radius\n",
    "    return area, circumference \n",
    "\n",
    "#example usage\n",
    "radius = 4\n",
    "area, circumference = circle_properties(radius)\n",
    "print(f\"Area: {area}\")\n",
    "print(f\"Circumference: {circumference}\")"
   ]
  },
  {
   "cell_type": "markdown",
   "metadata": {},
   "source": [
    "### Question 8: Custom Function\n",
    "\n",
    "Task:\n",
    "\n",
    "Define a function that performs a task you find interesting. Demonstrate how this function works.\n"
   ]
  },
  {
   "cell_type": "code",
   "execution_count": null,
   "metadata": {},
   "outputs": [],
   "source": [
    "#from chatgpt\n",
    "import random\n",
    "\n",
    "def roll_dice():\n",
    "    # Simulate rolling two dice\n",
    "    die_1 = random.randint(1, 6)\n",
    "    die_2 = random.randint(1, 6)\n",
    "    \n",
    "    # Sum the values of the two dice\n",
    "    total = die_1 + die_2\n",
    "    \n",
    "    # Return the results\n",
    "    return die_1, die_2, total\n",
    "\n",
    "# Example usage\n",
    "die_1, die_2, total = roll_dice()\n",
    "print(f\"Rolled dice: {die_1} and {die_2}\")\n",
    "print(f\"Total: {total}\")\n"
   ]
  },
  {
   "cell_type": "markdown",
   "metadata": {},
   "source": [
    "### Question 9: Creating and Manipulating Dictionaries\n",
    "\n",
    "Task:\n",
    "\n",
    "(a) Create a dictionary named student_grades with the following keys and values: \"Alice\": 85, \"Bob\": 90, and \"Charlie\": 78.\n",
    "\n",
    "(b) Add a new student, \"David\", with a grade of 92 to the student_grades dictionary.\n",
    "\n",
    "(c) Update \"Alice\"'s grade to 88."
   ]
  },
  {
   "cell_type": "code",
   "execution_count": 7,
   "metadata": {},
   "outputs": [
    {
     "name": "stdout",
     "output_type": "stream",
     "text": [
      "{'Alice': 85, 'Bob': 90, 'Charlie': 78}\n",
      "{'Alice': 85, 'Bob': 90, 'Charlie': 78, 'David': 92}\n",
      "{'Alice': 88, 'Bob': 90, 'Charlie': 78, 'David': 92}\n"
     ]
    }
   ],
   "source": [
    "#(a)\n",
    "student_grades = { \n",
    "    \"Alice\": 85,\n",
    "    \"Bob\": 90,\n",
    "    \"Charlie\": 78\n",
    "}\n",
    "print(student_grades)\n",
    "\n",
    "#(b)\n",
    "student_grades[\"David\"] = 92\n",
    "print(student_grades)\n",
    "\n",
    "#(c)\n",
    "student_grades[\"Alice\"] = 88\n",
    "print(student_grades)"
   ]
  },
  {
   "cell_type": "markdown",
   "metadata": {},
   "source": [
    "### Question 10: Using Dictionaries to Count Occurrences\n",
    "\n",
    "Task:\n",
    "\n",
    "Given the list of fruits [\"apple\", \"banana\", \"apple\", \"orange\", \"banana\", \"apple\"], create a dictionary named fruit_count that counts the number of times each fruit appears in the list."
   ]
  },
  {
   "cell_type": "code",
   "execution_count": null,
   "metadata": {},
   "outputs": [],
   "source": [
    "#fruit list\n",
    "fruits_list = [\"apple\", \"banana\", \"apple\", \"orange\", \"banana\", \"apple\"]\n",
    "\n",
    "fruit_count = {}\n",
    "\n",
    "\n",
    "# from chatgpt\n",
    "# List of fruits\n",
    "fruits = [\"apple\", \"banana\", \"apple\", \"orange\", \"banana\", \"apple\"]\n",
    "\n",
    "# Create an empty dictionary to store the count of each fruit\n",
    "fruit_count = {}\n",
    "\n",
    "# Loop through the list and count the occurrences of each fruit\n",
    "for fruit in fruits:\n",
    "    if fruit in fruit_count:\n",
    "        fruit_count[fruit] += 1\n",
    "    else:\n",
    "        fruit_count[fruit] = 1\n",
    "\n",
    "# Output the result\n",
    "fruit_count\n"
   ]
  }
 ],
 "metadata": {
  "kernelspec": {
   "display_name": "base",
   "language": "python",
   "name": "python3"
  },
  "language_info": {
   "codemirror_mode": {
    "name": "ipython",
    "version": 3
   },
   "file_extension": ".py",
   "mimetype": "text/x-python",
   "name": "python",
   "nbconvert_exporter": "python",
   "pygments_lexer": "ipython3",
   "version": "3.12.4"
  }
 },
 "nbformat": 4,
 "nbformat_minor": 2
}
